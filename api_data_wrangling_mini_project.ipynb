{
 "cells": [
  {
   "cell_type": "markdown",
   "metadata": {},
   "source": [
    "This exercise will require you to pull some data from the Qunadl API. Qaundl is currently the most widely used aggregator of financial market data."
   ]
  },
  {
   "cell_type": "markdown",
   "metadata": {},
   "source": [
    "As a first step, you will need to register a free account on the http://www.quandl.com website."
   ]
  },
  {
   "cell_type": "markdown",
   "metadata": {},
   "source": [
    "After you register, you will be provided with a unique API key, that you should store:"
   ]
  },
  {
   "cell_type": "code",
   "execution_count": 3,
   "metadata": {},
   "outputs": [],
   "source": [
    "# Store the API key as a string - according to PEP8, constants are always named in all upper case\n",
    "API_KEY = 'pTsozhv5F_xzhfyMkVQi'"
   ]
  },
  {
   "cell_type": "markdown",
   "metadata": {},
   "source": [
    "Qaundl has a large number of data sources, but, unfortunately, most of them require a Premium subscription. Still, there are also a good number of free datasets."
   ]
  },
  {
   "cell_type": "markdown",
   "metadata": {},
   "source": [
    "For this mini project, we will focus on equities data from the Frankfurt Stock Exhange (FSE), which is available for free. We'll try and analyze the stock prices of a company called Carl Zeiss Meditec, which manufactures tools for eye examinations, as well as medical lasers for laser eye surgery: https://www.zeiss.com/meditec/int/home.html. The company is listed under the stock ticker AFX_X."
   ]
  },
  {
   "cell_type": "markdown",
   "metadata": {},
   "source": [
    "You can find the detailed Quandl API instructions here: https://docs.quandl.com/docs/time-series"
   ]
  },
  {
   "cell_type": "markdown",
   "metadata": {},
   "source": [
    "While there is a dedicated Python package for connecting to the Quandl API, we would prefer that you use the *requests* package, which can be easily downloaded using *pip* or *conda*. You can find the documentation for the package here: http://docs.python-requests.org/en/master/ "
   ]
  },
  {
   "cell_type": "markdown",
   "metadata": {},
   "source": [
    "Finally, apart from the *requests* package, you are encouraged to not use any third party Python packages, such as *pandas*, and instead focus on what's available in the Python Standard Library (the *collections* module might come in handy: https://pymotw.com/3/collections/ ).\n",
    "Also, since you won't have access to DataFrames, you are encouraged to us Python's native data structures - preferably dictionaries, though some questions can also be answered using lists.\n",
    "You can read more on these data structures here: https://docs.python.org/3/tutorial/datastructures.html"
   ]
  },
  {
   "cell_type": "markdown",
   "metadata": {},
   "source": [
    "Keep in mind that the JSON responses you will be getting from the API map almost one-to-one to Python's dictionaries. Unfortunately, they can be very nested, so make sure you read up on indexing dictionaries in the documentation provided above."
   ]
  },
  {
   "cell_type": "code",
   "execution_count": 4,
   "metadata": {},
   "outputs": [],
   "source": [
    "# First, import the relevant modules\n",
    "import requests\n",
    "import collections\n"
   ]
  },
  {
   "cell_type": "code",
   "execution_count": null,
   "metadata": {
    "collapsed": true
   },
   "outputs": [],
   "source": [
    "# Inspect the JSON structure of the object you created, and take note of how nested it is,\n",
    "# as well as the overall structure\n"
   ]
  },
  {
   "cell_type": "code",
   "execution_count": 93,
   "metadata": {},
   "outputs": [],
   "source": [
    "url = \"https://www.quandl.com/api/v3/datasets/FSE/AFX_X.json\"\n",
    "\n",
    "params = dict(start_date = '2017-01-01', end_date = '2017-12-31', api_key = API_KEY)\n",
    "r = requests.get(url, params = params)\n",
    "test = r.text\n",
    "\n",
    "json_data = r.json()\n",
    "\n",
    "\n",
    "\n"
   ]
  },
  {
   "cell_type": "markdown",
   "metadata": {},
   "source": [
    "These are your tasks for this mini project:\n",
    "\n",
    "1. Collect data from the Franfurt Stock Exchange, for the ticker AFX_X, for the whole year 2017 (keep in mind that the date format is YYYY-MM-DD).\n",
    "2. Convert the returned JSON object into a Python dictionary.\n",
    "3. Calculate what the highest and lowest opening prices were for the stock in this period.\n",
    "4. What was the largest change in any one day (based on High and Low price)?\n",
    "5. What was the largest change between any two days (based on Closing Price)?\n",
    "6. What was the average daily trading volume during this year?\n",
    "7. (Optional) What was the median trading volume during this year. (Note: you may need to implement your own function for calculating the median.)"
   ]
  },
  {
   "cell_type": "code",
   "execution_count": 21,
   "metadata": {},
   "outputs": [
    {
     "data": {
      "text/plain": [
       "53.11"
      ]
     },
     "execution_count": 21,
     "metadata": {},
     "output_type": "execute_result"
    }
   ],
   "source": [
    "#create a list of opening prices based on the json data. \n",
    "\n",
    "index_open = json_data['dataset']['column_names'].index('Open')\n",
    "open_price = [day[index_open] for day in json_data['dataset']['data'] if day[index_open]]\n",
    "\n",
    "max(open_price)\n",
    "\n"
   ]
  },
  {
   "cell_type": "code",
   "execution_count": 25,
   "metadata": {},
   "outputs": [
    {
     "data": {
      "text/plain": [
       "['Date',\n",
       " 'Open',\n",
       " 'High',\n",
       " 'Low',\n",
       " 'Close',\n",
       " 'Change',\n",
       " 'Traded Volume',\n",
       " 'Turnover',\n",
       " 'Last Price of the Day',\n",
       " 'Daily Traded Units',\n",
       " 'Daily Turnover']"
      ]
     },
     "execution_count": 25,
     "metadata": {},
     "output_type": "execute_result"
    }
   ],
   "source": [
    "Columns = json_data['dataset']['column_names']\n",
    "Columns"
   ]
  },
  {
   "cell_type": "code",
   "execution_count": 37,
   "metadata": {},
   "outputs": [
    {
     "data": {
      "text/plain": [
       "53.11"
      ]
     },
     "execution_count": 37,
     "metadata": {},
     "output_type": "execute_result"
    }
   ],
   "source": [
    "#use the same methodology as above open_price = [day[index_open] for day in json_data['dataset']['data'] if day[index_open]]\n",
    "# but create empty dictionary and loop through all column values storing the column names as keys and the resptive list as the\n",
    "# key values\n",
    "\n",
    "StockDict = {}\n",
    "Columns = json_data['dataset']['column_names']\n",
    "Data = json_data['dataset']['data']\n",
    "for x in Columns:\n",
    "    index = Columns.index(x)\n",
    "    StockDict[x] = [day[index] for day in Data if day[index]]\n",
    "    \n",
    "max(StockDict['Open'])"
   ]
  },
  {
   "cell_type": "code",
   "execution_count": 64,
   "metadata": {},
   "outputs": [],
   "source": [
    "OpenHigh = max(StockDict['Open'])\n",
    "OpenLow = min(StockDict['Open'])\n",
    "\n",
    "#calc max day differnce\n",
    "DayHigh = StockDict['High']\n",
    "DayLow = StockDict['Low']\n",
    "diff = []\n",
    "zip_object = zip(DayHigh, DayLow)\n",
    "\n",
    "for DayHigh, DayLow in zip_object:\n",
    "    diff.append(round(abs(DayHigh - DayLow),2))\n",
    "\n",
    "MaxDayChange = max(diff)\n",
    "\n",
    "LargestChange = max(StockDict['Close']) - min(StockDict['Close']) \n",
    "\n",
    "AverageVol = sum(StockDict['Traded Volume']) / len(StockDict['Traded Volume'])\n",
    "\n"
   ]
  },
  {
   "cell_type": "code",
   "execution_count": 91,
   "metadata": {},
   "outputs": [],
   "source": [
    "#median function\n",
    "\n",
    "def median(lst):\n",
    "    sortedLst = sorted(lst) #sort list by value\n",
    "    lstLen = len(lst)       #find the length of the list\n",
    "    index = (lstLen - 1) // 2  #find the middle point of the list\n",
    "\n",
    "    if (lstLen % 2) > 0: #if the list length is odd number take mdidle value\n",
    "        return sortedLst[index]\n",
    "    else: # if even take average of two middle values\n",
    "        return (sortedLst[index] + sortedLst[index + 1])/2.0"
   ]
  },
  {
   "cell_type": "code",
   "execution_count": 83,
   "metadata": {},
   "outputs": [],
   "source": [
    "MedianVol = median(StockDict['Traded Volume'])"
   ]
  },
  {
   "cell_type": "code",
   "execution_count": 92,
   "metadata": {},
   "outputs": [
    {
     "name": "stdout",
     "output_type": "stream",
     "text": [
      "------------------Answers---------------------------------------\n",
      "3. Open High:  53.11\n",
      "3. Open Low:  34.0\n",
      "4. Highest Change in Any One Day:  2.81\n",
      "5. Largest change between any two days :  19.03\n",
      "6. Average Trading Volume:  89124.34\n",
      "7. Median Trading Volume:  76286.0\n"
     ]
    }
   ],
   "source": [
    "print('------------------Answers---------------------------------------')\n",
    "print(\"3. Open High: \", OpenHigh)\n",
    "print(\"3. Open Low: \", OpenLow)\n",
    "print(\"4. Highest Change in Any One Day: \", MaxDayChange)\n",
    "print(\"5. Largest change between any two days : \", LargestChange)\n",
    "print(\"6. Average Trading Volume: \", round(AverageVol,2))\n",
    "print(\"7. Median Trading Volume: \" , MedianVol)"
   ]
  }
 ],
 "metadata": {
  "kernelspec": {
   "display_name": "Python 3",
   "language": "python",
   "name": "python3"
  },
  "language_info": {
   "codemirror_mode": {
    "name": "ipython",
    "version": 3
   },
   "file_extension": ".py",
   "mimetype": "text/x-python",
   "name": "python",
   "nbconvert_exporter": "python",
   "pygments_lexer": "ipython3",
   "version": "3.7.6"
  }
 },
 "nbformat": 4,
 "nbformat_minor": 2
}
