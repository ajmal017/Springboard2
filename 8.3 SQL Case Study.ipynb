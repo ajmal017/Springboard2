{
 "cells": [
  {
   "cell_type": "code",
   "execution_count": 1,
   "metadata": {},
   "outputs": [
    {
     "name": "stdout",
     "output_type": "stream",
     "text": [
      "2.6.0\n",
      "2. Query all tasks\n",
      "(0, 'Tennis Court 1', 5, 25, 10000, 200)\n",
      "(1, 'Tennis Court 2', 5, 25, 8000, 200)\n",
      "(2, 'Badminton Court', 0, 15.5, 4000, 50)\n",
      "(3, 'Table Tennis', 0, 5, 320, 10)\n",
      "(4, 'Massage Room 1', 9.9, 80, 4000, 3000)\n",
      "(5, 'Massage Room 2', 9.9, 80, 4000, 3000)\n",
      "(6, 'Squash Court', 3.5, 17.5, 5000, 80)\n",
      "(7, 'Snooker Table', 0, 5, 450, 15)\n",
      "(8, 'Pool Table', 0, 5, 400, 15)\n"
     ]
    }
   ],
   "source": [
    "# import sqlite3\n",
    "import sqlite3\n",
    " \n",
    "def create_connection(db_file):\n",
    "    \"\"\" create a database connection to the SQLite database\n",
    "        specified by the db_file\n",
    "    :param db_file: database file\n",
    "    :return: Connection object or None\n",
    "    \"\"\"\n",
    "    conn = None\n",
    "    try:\n",
    "        conn = sqlite3.connect(db_file)\n",
    "        print(sqlite3.version)\n",
    "    except Error as e:\n",
    "        print(e)\n",
    " \n",
    "    return conn\n",
    " \n",
    "def select_all_tasks(conn):\n",
    "    \"\"\"\n",
    "    Query all rows in the tasks table\n",
    "    :param conn: the Connection object\n",
    "    :return:\n",
    "    \"\"\"\n",
    "    cur = conn.cursor()\n",
    "    \n",
    "    query1 = \"\"\"\n",
    "        SELECT *\n",
    "        FROM FACILITIES\n",
    "        \"\"\"\n",
    "    cur.execute(query1)\n",
    " \n",
    "    rows = cur.fetchall()\n",
    " \n",
    "    for row in rows:\n",
    "        print(row)\n",
    "\n",
    "\n",
    "def main():\n",
    "    database = \"sqlite_db_pythonsqlite.db\"\n",
    " \n",
    "    # create a database connection\n",
    "    conn = create_connection(database)\n",
    "    with conn: \n",
    "        print(\"2. Query all tasks\")\n",
    "        select_all_tasks(conn)\n",
    " \n",
    " \n",
    "if __name__ == '__main__':\n",
    "    main()\n"
   ]
  },
  {
   "cell_type": "code",
   "execution_count": 31,
   "metadata": {},
   "outputs": [
    {
     "name": "stdout",
     "output_type": "stream",
     "text": [
      "                 0  1\n",
      "0       Pool Table  0\n",
      "1    Snooker Table  0\n",
      "2     Table Tennis  0\n",
      "3  Badminton Court  0\n"
     ]
    }
   ],
   "source": [
    "import pandas as pd\n",
    "from sqlalchemy import create_engine\n",
    "conn = sqlite3.connect(\"sqlite_db_pythonsqlite.db\")\n",
    "\n",
    "Question10 = \"SELECT f.name,\\\n",
    "            CASE WHEN b.memid = 0 THEN SUM(b.slots * f.guestcost)ELSE sum(b.slots * f.membercost) END AS Revenue\\\n",
    "            FROM Bookings as b\\\n",
    "            LEFT JOIN Facilities AS f\\\n",
    "            ON b.facid = f.facid\\\n",
    "            GROUP BY b.facid\\\n",
    "            HAVING Revenue < 1000\\\n",
    "            ORDER BY Revenue DESC\"\n",
    "\n",
    "rs = conn.execute(Question10)\n",
    "df_Question10 = pd.DataFrame(rs.fetchall())\n",
    "print(df_Question10)"
   ]
  },
  {
   "cell_type": "code",
   "execution_count": 35,
   "metadata": {},
   "outputs": [
    {
     "name": "stdout",
     "output_type": "stream",
     "text": [
      "                          0   1                  2\n",
      "0            Florence Bader   9    Ponder Stibbons\n",
      "1                Anne Baker   9    Ponder Stibbons\n",
      "2             Timothy Baker  13     Jemima Farrell\n",
      "3                Tim Boothe   3         Tim Rownam\n",
      "4            Gerald Butters   1       Darren Smith\n",
      "5               Joan Coplin  16      Timothy Baker\n",
      "6             Erica Crumpet   2        Tracy Smith\n",
      "7                Nancy Dare   4    Janice Joplette\n",
      "8           Matthew Genting   5     Gerald Butters\n",
      "9                 John Hunt  30  Millicent Purview\n",
      "10              David Jones   4    Janice Joplette\n",
      "11            Douglas Jones  11        David Jones\n",
      "12          Janice Joplette   1       Darren Smith\n",
      "13           Anna Mackenzie   1       Darren Smith\n",
      "14             Charles Owen   1       Darren Smith\n",
      "15             David Pinker  13     Jemima Farrell\n",
      "16        Millicent Purview   2        Tracy Smith\n",
      "17         Henrietta Rumney  20    Matthew Genting\n",
      "18         Ramnaresh Sarwin  15     Florence Bader\n",
      "19               Jack Smith   1       Darren Smith\n",
      "20          Ponder Stibbons   6       Burton Tracy\n",
      "21  Henry Worthington-Smyth   2        Tracy Smith\n"
     ]
    }
   ],
   "source": [
    "Question11 = \"SELECT m1. firstname || ' ' || m1.surname as member, m1.recommendedby,\\\n",
    "            m2.firstname || ' ' || m2.surname as ReccomendedBy\\\n",
    "            FROM Members as m1\\\n",
    "            INNER JOIN Members as m2\\\n",
    "            ON  m1.recommendedby = m2.memid\\\n",
    "            WHERE m2.firstname <> 'GUEST'\\\n",
    "            ORDER BY m1.surname, m1.firstname\"\n",
    "rs = conn.execute(Question11)\n",
    "df_Question11 = pd.DataFrame(rs.fetchall())\n",
    "print(df_Question11)"
   ]
  },
  {
   "cell_type": "code",
   "execution_count": 39,
   "metadata": {},
   "outputs": [
    {
     "name": "stdout",
     "output_type": "stream",
     "text": [
      "                   0        1          2    3\n",
      "0    Badminton Court    Smith     Darren  132\n",
      "1    Badminton Court    Smith      Tracy   32\n",
      "2    Badminton Court   Rownam        Tim    4\n",
      "3    Badminton Court  Butters     Gerald   20\n",
      "4    Badminton Court    Tracy     Burton    2\n",
      "..               ...      ...        ...  ...\n",
      "197   Tennis Court 2   Sarwin  Ramnaresh   11\n",
      "198   Tennis Court 2   Rumney  Henrietta    1\n",
      "199   Tennis Court 2  Farrell      David    1\n",
      "200   Tennis Court 2  Purview  Millicent    1\n",
      "201   Tennis Court 2     Hunt       John    4\n",
      "\n",
      "[202 rows x 4 columns]\n"
     ]
    }
   ],
   "source": [
    "Question12 = \"SELECT f.name, m.surname, m.firstname, COUNT(*) as TotalBookings\\\n",
    "            FROM Bookings as b\\\n",
    "            LEFT JOIN Facilities as f\\\n",
    "            ON b.facid = f.facid\\\n",
    "            LEFT JOIN Members as m\\\n",
    "            ON b.memid = m.memid\\\n",
    "            WHERE b.memid <> 0\\\n",
    "            GROUP BY f.name, m.memid\"\n",
    "\n",
    "rs = conn.execute(Question12)\n",
    "df_Question12 = pd.DataFrame(rs.fetchall())\n",
    "print(df_Question12)"
   ]
  },
  {
   "cell_type": "code",
   "execution_count": 46,
   "metadata": {},
   "outputs": [
    {
     "name": "stdout",
     "output_type": "stream",
     "text": [
      "                  0    1   2\n",
      "0   Badminton Court   51  07\n",
      "1   Badminton Court  132  08\n",
      "2   Badminton Court  161  09\n",
      "3    Massage Room 1   77  07\n",
      "4    Massage Room 1  153  08\n",
      "5    Massage Room 1  191  09\n",
      "6    Massage Room 2    4  07\n",
      "7    Massage Room 2    9  08\n",
      "8    Massage Room 2   14  09\n",
      "9        Pool Table  103  07\n",
      "10       Pool Table  272  08\n",
      "11       Pool Table  408  09\n",
      "12    Snooker Table   68  07\n",
      "13    Snooker Table  154  08\n",
      "14    Snooker Table  199  09\n",
      "15     Squash Court   23  07\n",
      "16     Squash Court   85  08\n",
      "17     Squash Court   87  09\n",
      "18     Table Tennis   48  07\n",
      "19     Table Tennis  143  08\n",
      "20     Table Tennis  194  09\n",
      "21   Tennis Court 1   65  07\n",
      "22   Tennis Court 1  111  08\n",
      "23   Tennis Court 1  132  09\n",
      "24   Tennis Court 2   41  07\n",
      "25   Tennis Court 2  109  08\n",
      "26   Tennis Court 2  126  09\n"
     ]
    }
   ],
   "source": [
    "Question13 = \"SELECT f.name, COUNT(b.memid),strftime('%m', b.starttime) as BookMonth\\\n",
    "            FROM Bookings as b\\\n",
    "            LEFT JOIN Facilities as f\\\n",
    "            ON b.facid = f.facid\\\n",
    "            LEFT JOIN Members as m\\\n",
    "            ON b.memid = m.memid\\\n",
    "            WHERE b.memid <> 0\\\n",
    "            GROUP BY f.name, BookMonth\\\n",
    "            ORDER BY f.name\"\n",
    "\n",
    "rs = conn.execute(Question13)\n",
    "df_Question13 = pd.DataFrame(rs.fetchall())\n",
    "print(df_Question13)"
   ]
  }
 ],
 "metadata": {
  "kernelspec": {
   "display_name": "Python 3",
   "language": "python",
   "name": "python3"
  },
  "language_info": {
   "codemirror_mode": {
    "name": "ipython",
    "version": 3
   },
   "file_extension": ".py",
   "mimetype": "text/x-python",
   "name": "python",
   "nbconvert_exporter": "python",
   "pygments_lexer": "ipython3",
   "version": "3.7.6"
  }
 },
 "nbformat": 4,
 "nbformat_minor": 4
}
